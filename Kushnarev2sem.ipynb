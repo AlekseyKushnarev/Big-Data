{
 "cells": [
  {
   "cell_type": "code",
   "execution_count": 21,
   "id": "dfca2ab3",
   "metadata": {},
   "outputs": [
    {
     "name": "stdout",
     "output_type": "stream",
     "text": [
      "[0, 0, 0, 1, 0, 1, 0, 0, 0, 1]\n",
      "-\n"
     ]
    }
   ],
   "source": [
    "#2\n",
    "import random\n",
    "a = [random.randint(0, 1) for i in range(10)]\n",
    "print(a)\n",
    "if len(a) - sum(a) > sum(a):\n",
    "    print('-')\n",
    "else:\n",
    "    print('+')"
   ]
  },
  {
   "cell_type": "code",
   "execution_count": 7,
   "id": "10b8756b",
   "metadata": {},
   "outputs": [
    {
     "name": "stdout",
     "output_type": "stream",
     "text": [
      "[10, 5, 2, 2, 5, 7, 3, 3, 2, 3]\n",
      "min: 2\n",
      "max: 10\n",
      "mid: 4.2\n"
     ]
    }
   ],
   "source": [
    "#3\n",
    "import random\n",
    "a = [random.randint(0, 10) for i in range(10)]\n",
    "print(a)\n",
    "print('min:', min(a))\n",
    "print('max:', max(a))\n",
    "print('mid:', sum(a) / len(a))"
   ]
  },
  {
   "cell_type": "code",
   "execution_count": 22,
   "id": "68cc7d6e",
   "metadata": {},
   "outputs": [
    {
     "name": "stdout",
     "output_type": "stream",
     "text": [
      "[1, 0, 9, 6, 10, 8, 7, 5, 5, 7]\n",
      "[0.8414709848078965, 0.0, 0.4121184852417566, -0.27941549819892586, -0.5440211108893698, 0.9893582466233818, 0.6569865987187891, -0.9589242746631385, -0.9589242746631385, 0.6569865987187891]\n",
      "Max sin: 0.9893582466233818\n"
     ]
    }
   ],
   "source": [
    "#5\n",
    "import random\n",
    "import math\n",
    "a = [random.randint(0, 10) for i in range(10)]\n",
    "print(a)\n",
    "def max_sin(arr):\n",
    "    sin_arr = list(map(math.sin, arr))\n",
    "    print(sin_arr)\n",
    "    return max(sin_arr)\n",
    "print('Max sin:',max_sin(a))"
   ]
  },
  {
   "cell_type": "code",
   "execution_count": 16,
   "id": "2d25b229",
   "metadata": {},
   "outputs": [
    {
     "name": "stdout",
     "output_type": "stream",
     "text": [
      "[5, 8, 9, 2, 6, 10, 0, 5, 6, 8]\n",
      "num = 1\n",
      "[1, 1, 1, 1, 1, 1, 1, 1, 1, 1]\n"
     ]
    }
   ],
   "source": [
    "#6\n",
    "import random\n",
    "import math\n",
    "a = [random.randint(0, 10) for i in range(10)]\n",
    "print(a)\n",
    "def swap(arr, num):\n",
    "    for i in range(len(arr)):\n",
    "        arr[i] = num\n",
    "    return arr\n",
    "    print(swap(a, 4))\n",
    "num = int(input('num = '))\n",
    "arr = [val for item in range(len(a))]\n",
    "print(arr)"
   ]
  },
  {
   "cell_type": "code",
   "execution_count": 20,
   "id": "f4075ca1",
   "metadata": {},
   "outputs": [
    {
     "name": "stdout",
     "output_type": "stream",
     "text": [
      "[3, 5, 9, 5, 2, 8, 2, 5, 7, 2] [7, 5, 1, 9, 10, 5, 3, 2, 2, 3]\n",
      "[3, 5, 9, 5, 2, 8, 2, 5, 7, 2, 7, 5, 1, 9, 10, 5, 3, 2, 2, 3]\n"
     ]
    }
   ],
   "source": [
    "#4\n",
    "import random\n",
    "import math\n",
    "a = [random.randint(0, 10) for i in range(10)]\n",
    "b = [random.randint(0, 10) for i in range(10)]\n",
    "print(a,b)\n",
    "def ab(a,b):\n",
    "    c=[]\n",
    "    for i in a:\n",
    "        c.append(i)\n",
    "    for i in b:\n",
    "        c.append(i)\n",
    "    return c\n",
    "print(ab(a,b))"
   ]
  },
  {
   "cell_type": "code",
   "execution_count": null,
   "id": "fb3ac5e3",
   "metadata": {},
   "outputs": [],
   "source": []
  }
 ],
 "metadata": {
  "kernelspec": {
   "display_name": "Python 3 (ipykernel)",
   "language": "python",
   "name": "python3"
  },
  "language_info": {
   "codemirror_mode": {
    "name": "ipython",
    "version": 3
   },
   "file_extension": ".py",
   "mimetype": "text/x-python",
   "name": "python",
   "nbconvert_exporter": "python",
   "pygments_lexer": "ipython3",
   "version": "3.9.7"
  }
 },
 "nbformat": 4,
 "nbformat_minor": 5
}
